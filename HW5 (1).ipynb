{
  "nbformat": 4,
  "nbformat_minor": 0,
  "metadata": {
    "colab": {
      "provenance": []
    },
    "kernelspec": {
      "name": "ir",
      "display_name": "R"
    },
    "language_info": {
      "name": "R"
    }
  },
  "cells": [
    {
      "cell_type": "code",
      "execution_count": 5,
      "metadata": {
        "id": "fMBvgfMAVBYX"
      },
      "outputs": [],
      "source": [
        "m1<-matrix(c(7, 2, 9, 4, 12, 13), nrow = 2, ncol = 3)\n"
      ]
    },
    {
      "cell_type": "code",
      "source": [
        "m1"
      ],
      "metadata": {
        "colab": {
          "base_uri": "https://localhost:8080/",
          "height": 132
        },
        "id": "oDmdnFnYVOeL",
        "outputId": "262e799e-506a-442f-a4ae-00d0bcf8f8ba"
      },
      "execution_count": 6,
      "outputs": [
        {
          "output_type": "display_data",
          "data": {
            "text/html": [
              "<table class=\"dataframe\">\n",
              "<caption>A matrix: 2 × 3 of type dbl</caption>\n",
              "<tbody>\n",
              "\t<tr><td>7</td><td>9</td><td>12</td></tr>\n",
              "\t<tr><td>2</td><td>4</td><td>13</td></tr>\n",
              "</tbody>\n",
              "</table>\n"
            ],
            "text/markdown": "\nA matrix: 2 × 3 of type dbl\n\n| 7 | 9 | 12 |\n| 2 | 4 | 13 |\n\n",
            "text/latex": "A matrix: 2 × 3 of type dbl\n\\begin{tabular}{lll}\n\t 7 & 9 & 12\\\\\n\t 2 & 4 & 13\\\\\n\\end{tabular}\n",
            "text/plain": [
              "     [,1] [,2] [,3]\n",
              "[1,] 7    9    12  \n",
              "[2,] 2    4    13  "
            ]
          },
          "metadata": {}
        }
      ]
    },
    {
      "cell_type": "code",
      "source": [
        "m2<-matrix(c(1,2,3,7,8,9,12,13,14,19,20,21), nrow = 3, ncol = 4)"
      ],
      "metadata": {
        "id": "mx-8wb68Vf6-"
      },
      "execution_count": 8,
      "outputs": []
    },
    {
      "cell_type": "code",
      "source": [
        "m2"
      ],
      "metadata": {
        "colab": {
          "base_uri": "https://localhost:8080/",
          "height": 146
        },
        "id": "AtO6s3VqV3wm",
        "outputId": "1bb39d45-7af7-4920-efa6-0bce5f015930"
      },
      "execution_count": 9,
      "outputs": [
        {
          "output_type": "display_data",
          "data": {
            "text/html": [
              "<table class=\"dataframe\">\n",
              "<caption>A matrix: 3 × 4 of type dbl</caption>\n",
              "<tbody>\n",
              "\t<tr><td>1</td><td>7</td><td>12</td><td>19</td></tr>\n",
              "\t<tr><td>2</td><td>8</td><td>13</td><td>20</td></tr>\n",
              "\t<tr><td>3</td><td>9</td><td>14</td><td>21</td></tr>\n",
              "</tbody>\n",
              "</table>\n"
            ],
            "text/markdown": "\nA matrix: 3 × 4 of type dbl\n\n| 1 | 7 | 12 | 19 |\n| 2 | 8 | 13 | 20 |\n| 3 | 9 | 14 | 21 |\n\n",
            "text/latex": "A matrix: 3 × 4 of type dbl\n\\begin{tabular}{llll}\n\t 1 & 7 & 12 & 19\\\\\n\t 2 & 8 & 13 & 20\\\\\n\t 3 & 9 & 14 & 21\\\\\n\\end{tabular}\n",
            "text/plain": [
              "     [,1] [,2] [,3] [,4]\n",
              "[1,] 1    7    12   19  \n",
              "[2,] 2    8    13   20  \n",
              "[3,] 3    9    14   21  "
            ]
          },
          "metadata": {}
        }
      ]
    },
    {
      "cell_type": "code",
      "source": [
        "multipliedmatrix <- m1%*%m2"
      ],
      "metadata": {
        "id": "uU_2Njj3V5ZD"
      },
      "execution_count": 12,
      "outputs": []
    },
    {
      "cell_type": "code",
      "source": [
        "multipliedmatrix"
      ],
      "metadata": {
        "colab": {
          "base_uri": "https://localhost:8080/",
          "height": 114
        },
        "id": "a4_7WuUWWlEc",
        "outputId": "34124a3f-ba51-4d1a-8407-4bba71acb720"
      },
      "execution_count": 13,
      "outputs": [
        {
          "output_type": "display_data",
          "data": {
            "text/html": [
              "<table class=\"dataframe\">\n",
              "<caption>A matrix: 2 × 4 of type dbl</caption>\n",
              "<tbody>\n",
              "\t<tr><td>61</td><td>229</td><td>369</td><td>565</td></tr>\n",
              "\t<tr><td>49</td><td>163</td><td>258</td><td>391</td></tr>\n",
              "</tbody>\n",
              "</table>\n"
            ],
            "text/markdown": "\nA matrix: 2 × 4 of type dbl\n\n| 61 | 229 | 369 | 565 |\n| 49 | 163 | 258 | 391 |\n\n",
            "text/latex": "A matrix: 2 × 4 of type dbl\n\\begin{tabular}{llll}\n\t 61 & 229 & 369 & 565\\\\\n\t 49 & 163 & 258 & 391\\\\\n\\end{tabular}\n",
            "text/plain": [
              "     [,1] [,2] [,3] [,4]\n",
              "[1,] 61   229  369  565 \n",
              "[2,] 49   163  258  391 "
            ]
          },
          "metadata": {}
        }
      ]
    },
    {
      "cell_type": "code",
      "source": [
        "Data_frame <- data.frame(\n",
        "  id = c(1, 2, 3, 4, 5),\n",
        "  name = c(\"Peter\", \"Amy\", \"Ryan\", \"Gary\", \"Michelle\"),\n",
        "  salary = c(623.30, 515.20, 611.00, 729.00, 843.25)\n",
        "\n",
        ")\n",
        "Data_frame"
      ],
      "metadata": {
        "colab": {
          "base_uri": "https://localhost:8080/",
          "height": 255
        },
        "id": "0Ka2o15LW-8y",
        "outputId": "687da66d-e41a-48fc-9b29-9195b1279544"
      },
      "execution_count": 14,
      "outputs": [
        {
          "output_type": "display_data",
          "data": {
            "text/html": [
              "<table class=\"dataframe\">\n",
              "<caption>A data.frame: 5 × 3</caption>\n",
              "<thead>\n",
              "\t<tr><th scope=col>id</th><th scope=col>name</th><th scope=col>salary</th></tr>\n",
              "\t<tr><th scope=col>&lt;dbl&gt;</th><th scope=col>&lt;chr&gt;</th><th scope=col>&lt;dbl&gt;</th></tr>\n",
              "</thead>\n",
              "<tbody>\n",
              "\t<tr><td>1</td><td>Peter   </td><td>623.30</td></tr>\n",
              "\t<tr><td>2</td><td>Amy     </td><td>515.20</td></tr>\n",
              "\t<tr><td>3</td><td>Ryan    </td><td>611.00</td></tr>\n",
              "\t<tr><td>4</td><td>Gary    </td><td>729.00</td></tr>\n",
              "\t<tr><td>5</td><td>Michelle</td><td>843.25</td></tr>\n",
              "</tbody>\n",
              "</table>\n"
            ],
            "text/markdown": "\nA data.frame: 5 × 3\n\n| id &lt;dbl&gt; | name &lt;chr&gt; | salary &lt;dbl&gt; |\n|---|---|---|\n| 1 | Peter    | 623.30 |\n| 2 | Amy      | 515.20 |\n| 3 | Ryan     | 611.00 |\n| 4 | Gary     | 729.00 |\n| 5 | Michelle | 843.25 |\n\n",
            "text/latex": "A data.frame: 5 × 3\n\\begin{tabular}{lll}\n id & name & salary\\\\\n <dbl> & <chr> & <dbl>\\\\\n\\hline\n\t 1 & Peter    & 623.30\\\\\n\t 2 & Amy      & 515.20\\\\\n\t 3 & Ryan     & 611.00\\\\\n\t 4 & Gary     & 729.00\\\\\n\t 5 & Michelle & 843.25\\\\\n\\end{tabular}\n",
            "text/plain": [
              "  id name     salary\n",
              "1 1  Peter    623.30\n",
              "2 2  Amy      515.20\n",
              "3 3  Ryan     611.00\n",
              "4 4  Gary     729.00\n",
              "5 5  Michelle 843.25"
            ]
          },
          "metadata": {}
        }
      ]
    },
    {
      "cell_type": "code",
      "source": [
        "New_col.DF <- cbind(Data_frame, department = c(\"IT\", \"finance\",\"computer science\", \"marketing\", \"data analytics\"))\n",
        "New_col.DF"
      ],
      "metadata": {
        "colab": {
          "base_uri": "https://localhost:8080/",
          "height": 255
        },
        "id": "Uh1JF5d8XrWI",
        "outputId": "b9515c45-f352-4299-ad65-e7fe790a0a4a"
      },
      "execution_count": 17,
      "outputs": [
        {
          "output_type": "display_data",
          "data": {
            "text/html": [
              "<table class=\"dataframe\">\n",
              "<caption>A data.frame: 5 × 4</caption>\n",
              "<thead>\n",
              "\t<tr><th scope=col>id</th><th scope=col>name</th><th scope=col>salary</th><th scope=col>department</th></tr>\n",
              "\t<tr><th scope=col>&lt;dbl&gt;</th><th scope=col>&lt;chr&gt;</th><th scope=col>&lt;dbl&gt;</th><th scope=col>&lt;chr&gt;</th></tr>\n",
              "</thead>\n",
              "<tbody>\n",
              "\t<tr><td>1</td><td>Peter   </td><td>623.30</td><td>IT              </td></tr>\n",
              "\t<tr><td>2</td><td>Amy     </td><td>515.20</td><td>finance         </td></tr>\n",
              "\t<tr><td>3</td><td>Ryan    </td><td>611.00</td><td>computer science</td></tr>\n",
              "\t<tr><td>4</td><td>Gary    </td><td>729.00</td><td>marketing       </td></tr>\n",
              "\t<tr><td>5</td><td>Michelle</td><td>843.25</td><td>data analytics  </td></tr>\n",
              "</tbody>\n",
              "</table>\n"
            ],
            "text/markdown": "\nA data.frame: 5 × 4\n\n| id &lt;dbl&gt; | name &lt;chr&gt; | salary &lt;dbl&gt; | department &lt;chr&gt; |\n|---|---|---|---|\n| 1 | Peter    | 623.30 | IT               |\n| 2 | Amy      | 515.20 | finance          |\n| 3 | Ryan     | 611.00 | computer science |\n| 4 | Gary     | 729.00 | marketing        |\n| 5 | Michelle | 843.25 | data analytics   |\n\n",
            "text/latex": "A data.frame: 5 × 4\n\\begin{tabular}{llll}\n id & name & salary & department\\\\\n <dbl> & <chr> & <dbl> & <chr>\\\\\n\\hline\n\t 1 & Peter    & 623.30 & IT              \\\\\n\t 2 & Amy      & 515.20 & finance         \\\\\n\t 3 & Ryan     & 611.00 & computer science\\\\\n\t 4 & Gary     & 729.00 & marketing       \\\\\n\t 5 & Michelle & 843.25 & data analytics  \\\\\n\\end{tabular}\n",
            "text/plain": [
              "  id name     salary department      \n",
              "1 1  Peter    623.30 IT              \n",
              "2 2  Amy      515.20 finance         \n",
              "3 3  Ryan     611.00 computer science\n",
              "4 4  Gary     729.00 marketing       \n",
              "5 5  Michelle 843.25 data analytics  "
            ]
          },
          "metadata": {}
        }
      ]
    },
    {
      "cell_type": "code",
      "source": [
        "Data_frame[c(1,3,5), ]"
      ],
      "metadata": {
        "colab": {
          "base_uri": "https://localhost:8080/",
          "height": 192
        },
        "id": "8dRzngJ0ZA4B",
        "outputId": "73b3a6aa-c5e1-4041-869f-3c04da9e6ffd"
      },
      "execution_count": 23,
      "outputs": [
        {
          "output_type": "display_data",
          "data": {
            "text/html": [
              "<table class=\"dataframe\">\n",
              "<caption>A data.frame: 3 × 3</caption>\n",
              "<thead>\n",
              "\t<tr><th></th><th scope=col>id</th><th scope=col>name</th><th scope=col>salary</th></tr>\n",
              "\t<tr><th></th><th scope=col>&lt;dbl&gt;</th><th scope=col>&lt;chr&gt;</th><th scope=col>&lt;dbl&gt;</th></tr>\n",
              "</thead>\n",
              "<tbody>\n",
              "\t<tr><th scope=row>1</th><td>1</td><td>Peter   </td><td>623.30</td></tr>\n",
              "\t<tr><th scope=row>3</th><td>3</td><td>Ryan    </td><td>611.00</td></tr>\n",
              "\t<tr><th scope=row>5</th><td>5</td><td>Michelle</td><td>843.25</td></tr>\n",
              "</tbody>\n",
              "</table>\n"
            ],
            "text/markdown": "\nA data.frame: 3 × 3\n\n| <!--/--> | id &lt;dbl&gt; | name &lt;chr&gt; | salary &lt;dbl&gt; |\n|---|---|---|---|\n| 1 | 1 | Peter    | 623.30 |\n| 3 | 3 | Ryan     | 611.00 |\n| 5 | 5 | Michelle | 843.25 |\n\n",
            "text/latex": "A data.frame: 3 × 3\n\\begin{tabular}{r|lll}\n  & id & name & salary\\\\\n  & <dbl> & <chr> & <dbl>\\\\\n\\hline\n\t1 & 1 & Peter    & 623.30\\\\\n\t3 & 3 & Ryan     & 611.00\\\\\n\t5 & 5 & Michelle & 843.25\\\\\n\\end{tabular}\n",
            "text/plain": [
              "  id name     salary\n",
              "1 1  Peter    623.30\n",
              "3 3  Ryan     611.00\n",
              "5 5  Michelle 843.25"
            ]
          },
          "metadata": {}
        }
      ]
    },
    {
      "cell_type": "code",
      "source": [
        "x <- c(\"Peter\", \"Gary\", \"Michelle\")\n",
        "y <- c(623.30, 729.00, 843.25)\n",
        "barplot(y, names.arg = x)"
      ],
      "metadata": {
        "colab": {
          "base_uri": "https://localhost:8080/",
          "height": 437
        },
        "id": "fMeeLSocazgK",
        "outputId": "02a20a15-9da9-48c1-faeb-184757e0fdcb"
      },
      "execution_count": 24,
      "outputs": [
        {
          "output_type": "display_data",
          "data": {
            "text/plain": [
              "plot without title"
            ],
            "image/png": "[encoded data removed]"
          },
          "metadata": {
            "image/png": {
              "width": 420,
              "height": 420
            }
          }
        }
      ]
    },
    {
      "cell_type": "code",
      "source": [
        "x <- c(843.25, 623.30, 515.20)\n",
        "mylabel <- c(\"highest salary\", \"median salary\", \"lowest salary\")\n",
        "pie(x, label = mylabel, main = \"Salaries\")"
      ],
      "metadata": {
        "colab": {
          "base_uri": "https://localhost:8080/",
          "height": 437
        },
        "id": "rhLZc68Ebsp_",
        "outputId": "57023f0c-9423-43fd-c03d-73c909c2e384"
      },
      "execution_count": 25,
      "outputs": [
        {
          "output_type": "display_data",
          "data": {
            "text/plain": [
              "Plot with title “Salaries”"
            ],
            "image/png": "[encoded data removed]"
          },
          "metadata": {
            "image/png": {
              "width": 420,
              "height": 420
            }
          }
        }
      ]
    }
  ]
}